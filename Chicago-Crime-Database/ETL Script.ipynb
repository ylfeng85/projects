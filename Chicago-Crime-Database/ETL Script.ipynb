{
 "cells": [
  {
   "cell_type": "markdown",
   "id": "cc00f316",
   "metadata": {},
   "source": [
    "# ETL Script for Chicago Crime Database"
   ]
  },
  {
   "cell_type": "markdown",
   "id": "e872093e",
   "metadata": {},
   "source": [
    "####Importing"
   ]
  },
  {
   "cell_type": "code",
   "execution_count": 152,
   "id": "a8bdb1c1",
   "metadata": {},
   "outputs": [
    {
     "name": "stdout",
     "output_type": "stream",
     "text": [
      "Storing the logs at 2021-12-15 21:39:27.236299 in this location:/Users/melodyfeng/Desktop/MSCA/31012 DE20211215-213927LoggingText.log\n"
     ]
    }
   ],
   "source": [
    "from google.cloud import bigquery\n",
    "from datetime import datetime\n",
    "import logging as log\n",
    "import os"
   ]
  },
  {
   "cell_type": "markdown",
   "id": "e405debf",
   "metadata": {},
   "source": [
    "####Environmental variables and authentication "
   ]
  },
  {
   "cell_type": "code",
   "execution_count": null,
   "id": "94290b1a",
   "metadata": {},
   "outputs": [],
   "source": [
    "os.environ[\"GOOGLE_APPLICATION_CREDENTIALS\"]=\"/Users/melodyfeng/Downloads/crimeproject-335121-2c2943a752b5.json\""
   ]
  },
  {
   "cell_type": "markdown",
   "id": "eafb0823",
   "metadata": {},
   "source": [
    "####Set up logging file and level of logging"
   ]
  },
  {
   "cell_type": "code",
   "execution_count": null,
   "id": "1f82cab0",
   "metadata": {},
   "outputs": [],
   "source": [
    "logFile = '{}{}{}'.format(r'/Users/melodyfeng/Desktop/MSCA/31012 DE',\n",
    "                          datetime.now().strftime(\"%Y%m%d-%H%M%S\"), r'LoggingText.log')\n",
    "print(\"Storing the logs at {} in this location:{}\".format(datetime.now(), logFile))\n",
    "\n",
    "log.basicConfig(format='%(asctime)s - %(levelname)s - %(message)s', level=log.INFO, filename=logFile)\n",
    "\n",
    "start_time = datetime.now()\n",
    "log.info(\"Starting connection at: {}\".format(start_time))"
   ]
  },
  {
   "cell_type": "markdown",
   "id": "5f79a8d7",
   "metadata": {},
   "source": [
    "## Table 1: tbl_location"
   ]
  },
  {
   "cell_type": "code",
   "execution_count": 155,
   "id": "b7fc206c",
   "metadata": {},
   "outputs": [],
   "source": [
    "start_time = datetime.now()\n",
    "log.info(\"Creating table 1: tbl_location at {}\".format(start_time))\n",
    "\n",
    "# Construct a BigQuery client object.\n",
    "\n",
    "client = bigquery.Client()\n",
    "\n",
    "query_job = client.query(\n",
    "    \"\"\"\n",
    "        CREATE OR REPLACE TABLE `crimeproject-335121.chicago_crime.tbl_location` \n",
    "            (block_id INT64 NOT NULL\n",
    "             , block STRING NOT NULL \n",
    "             , ward INT64 NOT NULL \n",
    "             , community_area INT64 NOT NULL \n",
    "            )\n",
    "    \"\"\"\n",
    ")\n",
    "results = query_job.result()\n",
    "\n",
    "end_time = datetime.now()\n",
    "time_diff = end_time - start_time\n",
    "\n",
    "log.info(\"Table tbl_location is created. It took {} for the process to complete\".format(time_diff))"
   ]
  },
  {
   "cell_type": "markdown",
   "id": "95de9529",
   "metadata": {},
   "source": [
    "####Null values in tbl_location "
   ]
  },
  {
   "cell_type": "code",
   "execution_count": 156,
   "id": "c6483e1a",
   "metadata": {},
   "outputs": [],
   "source": [
    "query_job = client.query(\n",
    "    \"\"\"\n",
    "        SELECT \n",
    "            SUM(CASE WHEN block IS NULL THEN 1 ELSE 0 END) block_null\n",
    "            , SUM(CASE WHEN ward IS NULL THEN 1 ELSE 0 END) ward_null \n",
    "            , SUM(CASE WHEN community_area IS NULL THEN 1 ELSE 0 END) community_area_null \n",
    "        FROM `crimeproject-335121.chicago_crime.crime_raw` \n",
    "    \"\"\"\n",
    ")\n",
    "\n",
    "results = query_job.result()\n",
    "\n",
    "col_names = ['block', 'ward', 'community_area']\n",
    "\n",
    "result_dict = {col_names[i]:row[i] for row in results for i in range(len(col_names))}\n",
    "        \n",
    "log.info(\"These many nulls rows that will be deleted from the final table: {}\".format(result_dict))\n"
   ]
  },
  {
   "cell_type": "markdown",
   "id": "8cdff1aa",
   "metadata": {},
   "source": [
    "####Inserting data into tbl_location and creating block_id"
   ]
  },
  {
   "cell_type": "code",
   "execution_count": 157,
   "id": "8ecfb0aa",
   "metadata": {},
   "outputs": [],
   "source": [
    "start_time = datetime.now()\n",
    "\n",
    "query_job = client.query(\n",
    "    \"\"\"\n",
    "    INSERT `crimeproject-335121.chicago_crime.tbl_location`\n",
    "    SELECT \n",
    "        ROW_NUMBER() OVER (ORDER BY block) AS block_id\n",
    "        , block\n",
    "        , ward\n",
    "        , community_area\n",
    "    FROM `crimeproject-335121.chicago_crime.crime_raw`\n",
    "    WHERE block IS NOT NULL AND ward IS NOT NULL AND community_area IS NOT NULL \n",
    "    GROUP BY 2,3,4\n",
    "    \"\"\"\n",
    ")\n",
    "\n",
    "results = query_job.result()\n",
    "end_time = datetime.now()\n",
    "time_diff = end_time - start_time\n",
    "log.info(\"Data has been inserted into tbl_location. It took {} time to complete the task\".format(time_diff))\n"
   ]
  },
  {
   "cell_type": "markdown",
   "id": "14b18d4c",
   "metadata": {},
   "source": [
    "## Table 2: tbl_crime"
   ]
  },
  {
   "cell_type": "code",
   "execution_count": 158,
   "id": "dc0d9c4b",
   "metadata": {},
   "outputs": [],
   "source": [
    "start_time = datetime.now()\n",
    "log.info(\"Creating table 2: tbl_crime at {}\".format(start_time))\n",
    "\n",
    "query_job = client.query(\n",
    "    \"\"\"\n",
    "        CREATE OR REPLACE TABLE `crimeproject-335121.chicago_crime.tbl_crime` \n",
    "            (crime_id INT64 NOT NULL\n",
    "             , case_number STRING NOT NULL \n",
    "             , date DATE NOT NULL \n",
    "             , fbi_code STRING NOT NULL \n",
    "             , arrest BOOLEAN NOT NULL\n",
    "             , domestic BOOLEAN NOT NULL \n",
    "             , iucr STRING NOT NULL\n",
    "             , beat INT64 NOT NULL \n",
    "             , block_id INT64 NOT NULL\n",
    "             , latitude FLOAT64 \n",
    "             , longitude FLOAT64\n",
    "            )\n",
    "        PARTITION BY DATE_TRUNC(date, MONTH)  \n",
    "    \"\"\"\n",
    ")\n",
    "\n",
    "results = query_job.result()\n",
    "end_time = datetime.now()\n",
    "time_diff = end_time - start_time\n",
    "log.info(\"Table tbl_crime is created. It took {} for the process to complete\".format(time_diff))"
   ]
  },
  {
   "cell_type": "markdown",
   "id": "0c737442",
   "metadata": {},
   "source": [
    "####Null values in tbl_crime "
   ]
  },
  {
   "cell_type": "code",
   "execution_count": 159,
   "id": "e2ea9b69",
   "metadata": {},
   "outputs": [],
   "source": [
    "query_job = client.query(\n",
    "    \"\"\"\n",
    "        SELECT \n",
    "            SUM(CASE WHEN crime_id IS NULL THEN 1 ELSE 0 END) id_null\n",
    "            , SUM(CASE WHEN case_number IS NULL THEN 1 ELSE 0 END) case_number_null \n",
    "            , SUM(CASE WHEN date IS NULL THEN 1 ELSE 0 END) date_null\n",
    "            , SUM(CASE WHEN fbi_code IS NULL THEN 1 ELSE 0 END) fbi_code_null\n",
    "            , SUM(CASE WHEN arrest IS NULL THEN 1 ELSE 0 END) arrest_null\n",
    "            , SUM(CASE WHEN domestic IS NULL THEN 1 ELSE 0 END) domestic_null \n",
    "            , SUM(CASE WHEN iucr IS NULL THEN 1 ELSE 0 END) iucr_null\n",
    "            , SUM(CASE WHEN beat IS NULL THEN 1 ELSE 0 END) beat_null \n",
    "            , SUM(CASE WHEN block_id IS NULL THEN 1 ELSE 0 END) block_null\n",
    "            , SUM(CASE WHEN latitude IS NULL THEN 1 ELSE 0 END) latitude_null \n",
    "            , SUM(CASE WHEN longitude IS NULL THEN 1 ELSE 0 END) longitude_null\n",
    "        FROM `crimeproject-335121.chicago_crime.tbl_crime` \n",
    "    \"\"\"\n",
    ")\n",
    "\n",
    "results = query_job.result()\n",
    "\n",
    "col_names = ['id', 'case_number', 'date', 'fbi_code', 'arrest', 'domestic', 'iucr',\n",
    "             'beat', 'block', 'latitude', 'longitude']\n",
    "result_dict = {col_names[i]:row[i] for row in results for i in range(len(col_names))}\n",
    "log.info(\"These many nulls rows that will be deleted from the final table: {}\".format(result_dict))"
   ]
  },
  {
   "cell_type": "markdown",
   "id": "82ac72e8",
   "metadata": {},
   "source": [
    "####Inserting values in tbl_crime "
   ]
  },
  {
   "cell_type": "code",
   "execution_count": 160,
   "id": "e43918e9",
   "metadata": {},
   "outputs": [],
   "source": [
    "start_time = datetime.now()\n",
    "\n",
    "query_job = client.query(\n",
    "    \"\"\"\n",
    "    INSERT `crimeproject-335121.chicago_crime.tbl_crime`\n",
    "    WITH cte_block AS (\n",
    "        SELECT block_id, block \n",
    "        FROM `crimeproject-335121.chicago_crime.tbl_location`\n",
    "    )\n",
    "    SELECT \n",
    "        CAST(id AS INTEGER) AS crime_id \n",
    "        , case_number \n",
    "        , CAST(REPLACE(SUBSTR(TRIM(REPLACE(REPLACE(date, 'AM', ''), 'PM', '')), 1,10), '/', '-') as date format 'MM-DD-YYYY') AS date\n",
    "        , fbi_code\n",
    "        , CAST(arrest AS BOOLEAN) AS arrest \n",
    "        , CAST(domestic AS BOOLEAN) AS domestic\n",
    "        , iucr\n",
    "        , CAST(beat AS INTEGER) beat \n",
    "        , block_id\n",
    "        , CAST(latitude AS NUMERIC) AS latitude\n",
    "        , CAST(longitude AS NUMERIC) AS longitude\n",
    "    FROM `crimeproject-335121.chicago_crime.crime_raw` cct\n",
    "    JOIN cte_block ON cte_block.block = cct.block\n",
    "    WHERE id IS NOT NULL AND case_number IS NOT NULL AND date IS NOT NULL AND fbi_code IS NOT NULL AND arrest IS NOT NULL \n",
    "        AND domestic IS NOT NULL AND iucr IS NOT NULL AND beat IS NOT NULL AND block_id IS NOT NULL\n",
    "    GROUP BY 1,2,3,4,5,6,7,8,9,10,11 \n",
    "    \"\"\"\n",
    ")\n",
    "\n",
    "results = query_job.result()\n",
    "\n",
    "end_time = datetime.now()\n",
    "time_diff = end_time - start_time\n",
    "log.info(\"Data has been inserted into tbl_crime. It took {} time to complete the task\".format(time_diff))"
   ]
  },
  {
   "cell_type": "markdown",
   "id": "f5ccaaf0",
   "metadata": {},
   "source": [
    "## Table 3: tbl_iucr"
   ]
  },
  {
   "cell_type": "code",
   "execution_count": 161,
   "id": "b03aecd9",
   "metadata": {},
   "outputs": [],
   "source": [
    "start_time = datetime.now()\n",
    "log.info(\"Creating table 3: tbl_iucr at {}\".format(start_time))\n",
    "\n",
    "query_job = client.query(\n",
    "    \"\"\"\n",
    "        CREATE OR REPLACE TABLE `crimeproject-335121.chicago_crime.tbl_iucr` \n",
    "            (iucr STRING NOT NULL \n",
    "             , primary_type STRING NOT NULL\n",
    "             , description STRING NOT NULL\n",
    "            )  \n",
    "    \"\"\"\n",
    ")\n",
    "results = query_job.result()\n",
    "\n",
    "end_time = datetime.now()\n",
    "time_diff = end_time - start_time\n",
    "\n",
    "log.info(\"Table tbl_iucr is created. It took {} for the process to complete\".format(time_diff))"
   ]
  },
  {
   "cell_type": "markdown",
   "id": "fe95616d",
   "metadata": {},
   "source": [
    "####Null values in tbl_iucr"
   ]
  },
  {
   "cell_type": "code",
   "execution_count": 162,
   "id": "b66b870a",
   "metadata": {},
   "outputs": [],
   "source": [
    "query_job = client.query(\n",
    "    \"\"\"\n",
    "        SELECT \n",
    "            SUM(CASE WHEN iucr IS NULL THEN 1 ELSE 0 END) iucr_null\n",
    "            , SUM(CASE WHEN primary_type IS NULL THEN 1 ELSE 0 END) primary_type_null \n",
    "            , SUM(CASE WHEN description IS NULL THEN 1 ELSE 0 END) description_null\n",
    "        FROM `crimeproject-335121.chicago_crime.crime_raw` \n",
    "    \"\"\"\n",
    ")\n",
    "\n",
    "results = query_job.result()\n",
    "\n",
    "col_names = ['iucr', 'primary_type', 'description']\n",
    "\n",
    "result_dict = {col_names[i]:row[i] for row in results for i in range(len(col_names))}\n",
    "\n",
    "log.info(\"These many nulls rows that will be deleted from the final table: {}\".format(result_dict))\n"
   ]
  },
  {
   "cell_type": "markdown",
   "id": "d48bbcfc",
   "metadata": {},
   "source": [
    "####Inserting values into tbl_iucr "
   ]
  },
  {
   "cell_type": "code",
   "execution_count": 141,
   "id": "68395eed",
   "metadata": {},
   "outputs": [],
   "source": [
    "start_time = datetime.now()\n",
    "\n",
    "query_job = client.query(\n",
    "    \"\"\"\n",
    "    INSERT `crimeproject-335121.chicago_crime.tbl_iucr`\n",
    "    SELECT\n",
    "            base.iucr\n",
    "            , base.primary_type\n",
    "            , base.description\n",
    "        FROM (\n",
    "        SELECT \n",
    "            iucr\n",
    "            , primary_type\n",
    "            , description\n",
    "            , ROW_NUMBER() OVER (PARTITION BY iucr) AS row\n",
    "        FROM `crimeproject-335121.chicago_crime.crime_raw`\n",
    "        WHERE iucr IS NOT NULL AND primary_type IS NOT NULL AND description IS NOT NULL\n",
    "        ) AS base\n",
    "        WHERE base.row = 1\n",
    "        GROUP BY 1,2,3\n",
    "    \"\"\"\n",
    ")\n",
    "\n",
    "results = query_job.result()\n",
    "\n",
    "end_time = datetime.now()\n",
    "time_diff = end_time - start_time\n",
    "log.info(\"Data has been inserted into tbl_iucr. It took {} time to complete the task\".format(time_diff))"
   ]
  },
  {
   "cell_type": "markdown",
   "id": "963ea83c",
   "metadata": {},
   "source": [
    "## Table 4: tbl_police_district"
   ]
  },
  {
   "cell_type": "code",
   "execution_count": 142,
   "id": "3748d97c",
   "metadata": {},
   "outputs": [],
   "source": [
    "start_time = datetime.now()\n",
    "log.info(\"Creating table 4: tbl_police_district at {}\".format(start_time))\n",
    "\n",
    "query_job = client.query(\n",
    "    \"\"\"\n",
    "        CREATE OR REPLACE TABLE `crimeproject-335121.chicago_crime.tbl_police_district` \n",
    "            (beat INT64 NOT NULL \n",
    "             , district_id INT64 NOT NULL\n",
    "            )  \n",
    "    \"\"\"\n",
    ")\n",
    "results = query_job.result()\n",
    "\n",
    "end_time = datetime.now()\n",
    "time_diff = end_time - start_time\n",
    "\n",
    "log.info(\"Table tbl_police_district is created. It took {} for the process to complete\".format(time_diff))\n"
   ]
  },
  {
   "cell_type": "markdown",
   "id": "7101a250",
   "metadata": {},
   "source": [
    "####Null values in tbl_police_district"
   ]
  },
  {
   "cell_type": "code",
   "execution_count": 143,
   "id": "08c9b3ca",
   "metadata": {},
   "outputs": [],
   "source": [
    "query_job = client.query(\n",
    "    \"\"\"\n",
    "        SELECT \n",
    "            SUM(CASE WHEN beat IS NULL THEN 1 ELSE 0 END) beat_null\n",
    "            , SUM(CASE WHEN district IS NULL THEN 1 ELSE 0 END) district_id_null \n",
    "        FROM `crimeproject-335121.chicago_crime.crime_raw` \n",
    "    \"\"\"\n",
    ")\n",
    "\n",
    "results = query_job.result()\n",
    "\n",
    "col_names = ['beat', 'district_id']\n",
    "\n",
    "result_dict = {col_names[i]:row[i] for row in results for i in range(len(col_names))}\n",
    "\n",
    "log.info(\"These many nulls rows that will be deleted from the final table: {}\".format(result_dict))"
   ]
  },
  {
   "cell_type": "markdown",
   "id": "ad1ff1d9",
   "metadata": {},
   "source": [
    "####Inserting data into tbl_police_district"
   ]
  },
  {
   "cell_type": "code",
   "execution_count": 144,
   "id": "4a48c4ba",
   "metadata": {},
   "outputs": [],
   "source": [
    "start_time = datetime.now()\n",
    "\n",
    "query_job = client.query(\n",
    "    \"\"\"\n",
    "    INSERT `crimeproject-335121.chicago_crime.tbl_police_district`\n",
    "    SELECT \n",
    "        CAST(beat AS INTEGER) AS beat\n",
    "        , CAST(district AS INTEGER) AS district_id \n",
    "    FROM `crimeproject-335121.chicago_crime.crime_raw`\n",
    "    WHERE beat IS NOT NULL AND district IS NOT NULL\n",
    "    GROUP BY 1,2\n",
    "    \"\"\"\n",
    ")\n",
    "\n",
    "results = query_job.result()\n",
    "\n",
    "end_time = datetime.now()\n",
    "time_diff = end_time - start_time\n",
    "log.info(\"Data has been inserted into tbl_police_district. It took {} time to complete the task\".format(time_diff))"
   ]
  },
  {
   "cell_type": "markdown",
   "id": "2671dd1f",
   "metadata": {},
   "source": [
    "## Table 5 tbl_police_sentiment"
   ]
  },
  {
   "cell_type": "code",
   "execution_count": 145,
   "id": "cfd8fd2c",
   "metadata": {},
   "outputs": [],
   "source": [
    "start_time = datetime.now()\n",
    "log.info(\"Creating table 5: tbl_police_sentiment at {}\".format(start_time))\n",
    "\n",
    "query_job = client.query(\n",
    "    \"\"\"\n",
    "        CREATE OR REPLACE TABLE `crimeproject-335121.chicago_crime.tbl_police_sentiment` \n",
    "            (district_id INT64 NOT NULL \n",
    "             , overall_safety FLOAT64 NOT NULL\n",
    "             , overall_trust FLOAT64 NOT NULL\n",
    "             , safety_low_income FLOAT64 NOT NULL\n",
    "             , safety_medium_income FLOAT64 NOT NULL\n",
    "             , safety_high_income FLOAT64 NOT NULL\n",
    "             , trust_low_income FLOAT64 NOT NULL\n",
    "             , trust_medium_income FLOAT64 NOT NULL\n",
    "             , trust_high_income FLOAT64 NOT NULL\n",
    "            )  \n",
    "    \"\"\"\n",
    ")\n",
    "results = query_job.result()\n",
    "\n",
    "end_time = datetime.now()\n",
    "time_diff = end_time - start_time\n",
    "\n",
    "log.info(\"Table tbl_police_sentiment is created. It took {} for the process to complete\".format(time_diff))"
   ]
  },
  {
   "cell_type": "markdown",
   "id": "86b9ae4c",
   "metadata": {},
   "source": [
    "####Null values in tbl_police_sentiment"
   ]
  },
  {
   "cell_type": "code",
   "execution_count": 147,
   "id": "400a74dc",
   "metadata": {},
   "outputs": [],
   "source": [
    "query_job = client.query(\n",
    "    \"\"\"\n",
    "        SELECT \n",
    "            SUM(CASE WHEN district IS NULL THEN 1 ELSE 0 END) district_null\n",
    "            , SUM(CASE WHEN safety IS NULL THEN 1 ELSE 0 END) safety_null\n",
    "            , SUM(CASE WHEN trust IS NULL THEN 1 ELSE 0 END) trust_null\n",
    "            , SUM(CASE WHEN s_income_low IS NULL THEN 1 ELSE 0 END) s_income_low_null\n",
    "            , SUM(CASE WHEN s_income_medium IS NULL THEN 1 ELSE 0 END) s_income_medium_null\n",
    "            , SUM(CASE WHEN s_income_high IS NULL THEN 1 ELSE 0 END) s_income_high_null\n",
    "            , SUM(CASE WHEN t_income_low IS NULL THEN 1 ELSE 0 END) t_income_low_null\n",
    "            , SUM(CASE WHEN t_income_medium IS NULL THEN 1 ELSE 0 END) t_income_medium_null\n",
    "            , SUM(CASE WHEN t_income_high IS NULL THEN 1 ELSE 0 END) t_income_high_null\n",
    "        FROM `crimeproject-335121.chicago_crime.police_sentiment_raw` \n",
    "    \"\"\"\n",
    ")\n",
    "\n",
    "results = query_job.result()\n",
    "\n",
    "result_dict = {}\n",
    "col_names = ['district_id', 'overall_safety', 'overall_trust', 'safety_low_income', 'safety_medium_income',\n",
    "             'safety_high_income', 'trust_low_income', 'trust_medium_income', 'trust_high_income']\n",
    "\n",
    "result_dict = {col_names[i]:row[i] for row in results for i in range(len(col_names))}\n",
    "\n",
    "log.info(\"These many nulls rows that will be deleted from the final table: {}\".format(result_dict))"
   ]
  },
  {
   "cell_type": "markdown",
   "id": "9e4c450b",
   "metadata": {},
   "source": [
    "####Inserting data into tbl_police_sentiment"
   ]
  },
  {
   "cell_type": "code",
   "execution_count": 150,
   "id": "83fc9ae5",
   "metadata": {},
   "outputs": [],
   "source": [
    "start_time = datetime.now()\n",
    "\n",
    "query_job = client.query(\n",
    "    \"\"\"\n",
    "    INSERT `crimeproject-335121.chicago_crime.tbl_police_sentiment`\n",
    "    SELECT \n",
    "            district AS district_id \n",
    "            , AVG(safety) AS overall_safety\n",
    "            , AVG(trust) AS overall_trust\n",
    "            , AVG(s_income_low) AS safety_low_income\n",
    "            , AVG(s_income_medium) AS safety_medium_income\n",
    "            , AVG(s_income_high) AS safety_high_income\n",
    "            , AVG(t_income_low) AS trust_low_income\n",
    "            , AVG(t_income_medium) AS trust_medium_income\n",
    "            , AVG(t_income_high) AS trust_high_income\n",
    "        FROM `crimeproject-335121.chicago_crime.police_sentiment_raw`\n",
    "        WHERE district IS NOT NULL AND safety IS NOT NULL AND trust IS NOT NULL AND s_income_low IS NOT NULL \n",
    "            AND s_income_medium IS NOT NULL AND s_income_high IS NOT NULL AND t_income_low IS NOT NULL AND t_income_medium IS NOT NULL \n",
    "            AND t_income_high IS NOT NULL \n",
    "        GROUP BY 1\n",
    "    \"\"\"\n",
    ")\n",
    "\n",
    "results = query_job.result()\n",
    "\n",
    "end_time = datetime.now()\n",
    "time_diff = end_time - start_time\n",
    "log.info(\"Data has been inserted into tbl_police_sentiment. It took {} time to complete the task\".format(time_diff))"
   ]
  }
 ],
 "metadata": {
  "kernelspec": {
   "display_name": "Python 3 (ipykernel)",
   "language": "python",
   "name": "python3"
  },
  "language_info": {
   "codemirror_mode": {
    "name": "ipython",
    "version": 3
   },
   "file_extension": ".py",
   "mimetype": "text/x-python",
   "name": "python",
   "nbconvert_exporter": "python",
   "pygments_lexer": "ipython3",
   "version": "3.8.12"
  }
 },
 "nbformat": 4,
 "nbformat_minor": 5
}
